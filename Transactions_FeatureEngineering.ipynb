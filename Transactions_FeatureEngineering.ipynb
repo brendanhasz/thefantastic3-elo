{
 "cells": [
  {
   "cell_type": "code",
   "execution_count": 1,
   "metadata": {
    "_cell_guid": "b1076dfc-b9ad-4769-8c92-a6c4dae69d19",
    "_uuid": "8f2839f25d086af736a60e9eeb907d3b93b6e0e5"
   },
   "outputs": [],
   "source": [
    "import numpy as np\n",
    "import pandas as pd\n",
    "import matplotlib.pyplot as plt\n",
    "import seaborn as sns\n",
    "\n",
    "# Plot settings\n",
    "%matplotlib inline\n",
    "%config InlineBackend.figure_format = 'svg'\n",
    "sns.set()"
   ]
  },
  {
   "cell_type": "markdown",
   "metadata": {
    "_uuid": "3025e16aeaf61d8802d2699419ea609cadf97c63"
   },
   "source": [
    "Load card data"
   ]
  },
  {
   "cell_type": "code",
   "execution_count": 2,
   "metadata": {
    "_uuid": "07ade37022948fb3c267ac1333d9aab9d6426d7b"
   },
   "outputs": [],
   "source": [
    "# TODO"
   ]
  },
  {
   "cell_type": "markdown",
   "metadata": {
    "_uuid": "e4ea201480b33d5870823ff1663f9e757cebca24"
   },
   "source": [
    "Load transactions data"
   ]
  },
  {
   "cell_type": "code",
   "execution_count": 3,
   "metadata": {
    "_uuid": "a93bbbca484035d9aaa75708900be4422798fe6d"
   },
   "outputs": [],
   "source": [
    "# Datatypes of each column\n",
    "dtypes = {\n",
    "    'authorized_flag':      'str',     # Y or N\n",
    "    'card_id':              'str',     # 325540 unique values\n",
    "    'city_id':              'int16',   # -1 then 1 to 347 (is -1 supposed to be nan?)\n",
    "    'category_1':           'str',     # Y or N\n",
    "    'installments':         'int8',    # -25, then -1 thru 12 (-1 supposed to be nan?)\n",
    "    'category_3':           'str',     # A, B, C, and nan\n",
    "    'merchant_category_id': 'int16',   # 2 to 891\n",
    "    'merchant_id':          'str',     # lots of unique ones here and nans\n",
    "    'month_lag':            'int8',    # -13 thru 0\n",
    "    'purchase_amount':      'float32', # min: -0.746, med: -0.699, max: 11269.667\n",
    "    'purchase_date':        'str',     # YYYY-MM-DD hh:mm:ss\n",
    "    'category_2':           'float32', # 1 thru 5 and nan\n",
    "    'state_id':             'int8',    # -1 then 1 thru 24\n",
    "    'subsector_id':         'int8'     # 1 thru 41\n",
    "}\n",
    "\n",
    "# Load the data\n",
    "hist_trans = pd.read_csv('../input/historical_transactions.csv', \n",
    "                         usecols=dtypes.keys(),\n",
    "                         dtype=dtypes)\n",
    "new_trans = pd.read_csv('../input/new_merchant_transactions.csv', \n",
    "                        usecols=dtypes.keys(),\n",
    "                        dtype=dtypes)\n",
    "\n",
    "# Merge new_merchant_transactions and historical_transactions\n",
    "trans = pd.concat([hist_trans, new_trans])\n",
    "del hist_trans, new_trans"
   ]
  },
  {
   "cell_type": "markdown",
   "metadata": {
    "_uuid": "9ac4c10d0add5badf5db1c306f3adb5ef29e55a4"
   },
   "source": [
    "Load merchants data"
   ]
  },
  {
   "cell_type": "code",
   "execution_count": 4,
   "metadata": {
    "_uuid": "09dece2d574394ea9993809c419fc80a0edfc43a"
   },
   "outputs": [],
   "source": [
    "\n",
    "# Datatypes of each column\n",
    "# (don't load cols which are in transactions data, just use those vals)\n",
    "# Nulls: NO nulls except for 13 rows in avg_sales_lag{3,6,12}\n",
    "dtypes = {\n",
    "  'merchant_id':                 'str',     # 334633 unique values\n",
    "  'merchant_group_id':           'uint32',  # 1 thru 112586 (w/ some missing, ~109k uniques)\n",
    "  'numerical_1':                 'float32', # ~ -0.06 thru ~ 183.8 (only 951 unique vals?)\n",
    "  'numerical_2':                 'float32', # roughly the same as above\n",
    "  'most_recent_sales_range':     'str',     # A, B, C, D, or E\n",
    "  'most_recent_purchases_range': 'str',     # A, B, C, D, or E\n",
    "  'avg_sales_lag3':              'float32', # most between 0 and 2, if you transform by 1/x, all but 3 are between 0 and 4\n",
    "  'avg_purchases_lag3':          'float32', # most between 0 and 2, if you transform by 1/x, all but 3 are between 0 and 4\n",
    "  'active_months_lag3':          'uint8',   # 1 to 3 \n",
    "  'avg_sales_lag6':              'float32', # similar to avg_sales_lag3\n",
    "  'avg_purchases_lag6':          'float32', # similar to avg_purchases_lag3\n",
    "  'active_months_lag6':          'uint8',   # 1 to 6\n",
    "  'avg_sales_lag12':             'float32', # similar to avg_sales_lag3\n",
    "  'avg_purchases_lag12':         'float32', # similar to avg_purchases_lag3\n",
    "  'active_months_lag12':         'uint8',   # 1 to 12\n",
    "  'category_4':                  'str',     # Y or N\n",
    "}\n",
    "\n",
    "# Load the data\n",
    "merchants = pd.read_csv('../input/merchants.csv',\n",
    "                        usecols=dtypes.keys(),\n",
    "                        dtype=dtypes)"
   ]
  },
  {
   "cell_type": "code",
   "execution_count": 5,
   "metadata": {
    "_uuid": "9722c4cb08693470a58f8c74c85961c58c1c6e89"
   },
   "outputs": [],
   "source": [
    "# Transforms\n",
    "merchants['avg_sales_lag3'] = 1.0/merchants['avg_sales_lag3']\n",
    "merchants['avg_sales_lag6'] = 1.0/merchants['avg_sales_lag6']\n",
    "merchants['avg_sales_lag12'] = 1.0/merchants['avg_sales_lag12']\n",
    "merchants['avg_purchases_lag3'] = 1.0/merchants['avg_purchases_lag3']\n",
    "merchants['avg_purchases_lag6'] = 1.0/merchants['avg_purchases_lag6']\n",
    "merchants['avg_purchases_lag12'] = 1.0/merchants['avg_purchases_lag12']\n",
    "\n",
    "# Map boolean / ordinal cols to \n",
    "bool_map = {'Y': True, 'N': False}\n",
    "five_map = {'A': 0, 'B': 1, 'C': 2, 'D': 3, 'E': 4}\n",
    "merchants['category_4'] = merchants['category_4'].map(bool_map).astype('bool')\n",
    "merchants['most_recent_sales_range'] = merchants['most_recent_sales_range'].map(five_map).astype('uint8')\n",
    "merchants['most_recent_purchases_range'] = merchants['most_recent_purchases_range'].map(five_map).astype('uint8')"
   ]
  },
  {
   "cell_type": "markdown",
   "metadata": {
    "_uuid": "cdbee816b5f7c92d83d64289073a4ab14cf6fa4c"
   },
   "source": [
    "Merge merchants and transactions data"
   ]
  },
  {
   "cell_type": "code",
   "execution_count": 6,
   "metadata": {
    "_uuid": "52eda494151d06e24c167f4c9d5f4662c6aff4e6"
   },
   "outputs": [],
   "source": [
    "# TODO\n",
    "\n",
    "# NOTE: you don't need to load card data until the last step..."
   ]
  },
  {
   "cell_type": "markdown",
   "metadata": {
    "_uuid": "0689f52b8ca4de83dddc1629e31d55be52377ba4"
   },
   "source": [
    "Compute aggregations for each card_id"
   ]
  },
  {
   "cell_type": "code",
   "execution_count": 7,
   "metadata": {
    "_uuid": "2b74f83e2a834ac3df599e8234a1b3b8bcf4ddbb"
   },
   "outputs": [],
   "source": [
    "# TODO"
   ]
  },
  {
   "cell_type": "markdown",
   "metadata": {
    "_uuid": "7c11df2bd8940aa7356ba45bebac66efffeb5677"
   },
   "source": [
    "Merge those aggregations w/ card data"
   ]
  },
  {
   "cell_type": "code",
   "execution_count": 8,
   "metadata": {
    "_uuid": "6095bc2eb7d72671290a7e9f1c7006c805d9864d"
   },
   "outputs": [],
   "source": [
    "# TODO"
   ]
  }
 ],
 "metadata": {
  "kernelspec": {
   "display_name": "Python 3",
   "language": "python",
   "name": "python3"
  },
  "language_info": {
   "codemirror_mode": {
    "name": "ipython",
    "version": 3
   },
   "file_extension": ".py",
   "mimetype": "text/x-python",
   "name": "python",
   "nbconvert_exporter": "python",
   "pygments_lexer": "ipython3",
   "version": "3.6.6"
  }
 },
 "nbformat": 4,
 "nbformat_minor": 1
}
